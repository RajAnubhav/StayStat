{
 "cells": [
  {
   "cell_type": "markdown",
   "id": "ee7105be-19ce-462f-845d-5840fea0e126",
   "metadata": {},
   "source": [
    "# Numpy Tutorial"
   ]
  },
  {
   "cell_type": "code",
   "execution_count": 1,
   "id": "3a4f28d1-2361-4aa6-9c6b-4387c4578355",
   "metadata": {},
   "outputs": [],
   "source": [
    "import numpy as np"
   ]
  },
  {
   "cell_type": "code",
   "execution_count": 3,
   "id": "0656a112-8ee1-43ea-b4f5-96ad70a448b7",
   "metadata": {},
   "outputs": [],
   "source": [
    "a = np.array([1,2,3,4,5])\n",
    "b = np.array((2,3,2,5))"
   ]
  },
  {
   "cell_type": "code",
   "execution_count": 8,
   "id": "e8e6ff6e-8efb-4893-8d4d-2474175a2f40",
   "metadata": {},
   "outputs": [
    {
     "data": {
      "text/plain": [
       "numpy.ndarray"
      ]
     },
     "execution_count": 8,
     "metadata": {},
     "output_type": "execute_result"
    }
   ],
   "source": [
    "type(a)"
   ]
  },
  {
   "cell_type": "code",
   "execution_count": 9,
   "id": "84db587a-b262-4c07-8587-23d2074c85e4",
   "metadata": {},
   "outputs": [
    {
     "data": {
      "text/plain": [
       "numpy.ndarray"
      ]
     },
     "execution_count": 9,
     "metadata": {},
     "output_type": "execute_result"
    }
   ],
   "source": [
    "type(b)"
   ]
  },
  {
   "cell_type": "code",
   "execution_count": 13,
   "id": "4f7f681d-ce6e-4639-be05-f4c94025f43d",
   "metadata": {},
   "outputs": [
    {
     "name": "stdout",
     "output_type": "stream",
     "text": [
      "2\n",
      "Shape of a is : (2, 3)\n"
     ]
    }
   ],
   "source": [
    "a = np.array([[1,2,3], [4,5,6]])\n",
    "print(a.ndim)\n",
    "\n",
    "print(\"Shape of a is :\", a.shape)"
   ]
  },
  {
   "cell_type": "code",
   "execution_count": 16,
   "id": "9864cb44-dcca-4e0a-a500-fe429497eda6",
   "metadata": {},
   "outputs": [
    {
     "data": {
      "text/plain": [
       "24"
      ]
     },
     "execution_count": 16,
     "metadata": {},
     "output_type": "execute_result"
    }
   ],
   "source": [
    "a.nbytes"
   ]
  },
  {
   "cell_type": "markdown",
   "id": "8d496391-ef7c-4f8f-ac95-f040c561be10",
   "metadata": {},
   "source": [
    "[ ] np.arange \\\n",
    "[ ] np.random.permutation \\\n",
    "[ ] np.reshape"
   ]
  },
  {
   "cell_type": "code",
   "execution_count": 23,
   "id": "a11781e2-2d0f-490e-9fd0-1741c014b281",
   "metadata": {},
   "outputs": [],
   "source": [
    "import matplotlib.pyplot as plt"
   ]
  },
  {
   "cell_type": "code",
   "execution_count": 26,
   "id": "967aecf6-9e7a-4e47-813c-0b8f0f64425b",
   "metadata": {},
   "outputs": [
    {
     "data": {
      "text/plain": [
       "(array([  1.,   0.,   1.,   2.,   2.,   0.,   0.,   0.,   0.,   2.,   0.,\n",
       "          1.,   1.,   4.,   7.,  10.,   4.,   6.,   8.,  10.,  15.,  18.,\n",
       "         13.,  28.,  23.,  27.,  37.,  35.,  42.,  40.,  64.,  69.,  65.,\n",
       "         95.,  87., 114., 126., 130., 164., 158., 164., 208., 218., 214.,\n",
       "        249., 251., 281., 234., 286., 278., 275., 284., 306., 306., 278.,\n",
       "        295., 307., 297., 280., 299., 292., 238., 253., 217., 215., 232.,\n",
       "        194., 201., 158., 152., 125., 119., 123., 110.,  82., 100.,  74.,\n",
       "         49.,  56.,  54.,  37.,  25.,  39.,  28.,  20.,  16.,  18.,  14.,\n",
       "          9.,   7.,   5.,   4.,   5.,   4.,   2.,   1.,   2.,   0.,   0.,\n",
       "          1.]),\n",
       " array([-4.07775407, -4.00239736, -3.92704064, -3.85168392, -3.77632721,\n",
       "        -3.70097049, -3.62561377, -3.55025705, -3.47490034, -3.39954362,\n",
       "        -3.3241869 , -3.24883019, -3.17347347, -3.09811675, -3.02276003,\n",
       "        -2.94740332, -2.8720466 , -2.79668988, -2.72133317, -2.64597645,\n",
       "        -2.57061973, -2.49526302, -2.4199063 , -2.34454958, -2.26919286,\n",
       "        -2.19383615, -2.11847943, -2.04312271, -1.967766  , -1.89240928,\n",
       "        -1.81705256, -1.74169585, -1.66633913, -1.59098241, -1.51562569,\n",
       "        -1.44026898, -1.36491226, -1.28955554, -1.21419883, -1.13884211,\n",
       "        -1.06348539, -0.98812867, -0.91277196, -0.83741524, -0.76205852,\n",
       "        -0.68670181, -0.61134509, -0.53598837, -0.46063166, -0.38527494,\n",
       "        -0.30991822, -0.2345615 , -0.15920479, -0.08384807, -0.00849135,\n",
       "         0.06686536,  0.14222208,  0.2175788 ,  0.29293551,  0.36829223,\n",
       "         0.44364895,  0.51900567,  0.59436238,  0.6697191 ,  0.74507582,\n",
       "         0.82043253,  0.89578925,  0.97114597,  1.04650269,  1.1218594 ,\n",
       "         1.19721612,  1.27257284,  1.34792955,  1.42328627,  1.49864299,\n",
       "         1.5739997 ,  1.64935642,  1.72471314,  1.80006986,  1.87542657,\n",
       "         1.95078329,  2.02614001,  2.10149672,  2.17685344,  2.25221016,\n",
       "         2.32756687,  2.40292359,  2.47828031,  2.55363703,  2.62899374,\n",
       "         2.70435046,  2.77970718,  2.85506389,  2.93042061,  3.00577733,\n",
       "         3.08113405,  3.15649076,  3.23184748,  3.3072042 ,  3.38256091,\n",
       "         3.45791763]),\n",
       " <BarContainer object of 100 artists>)"
      ]
     },
     "execution_count": 26,
     "metadata": {},
     "output_type": "execute_result"
    },
    {
     "data": {
      "image/png": "[encoded data removed]",
      "text/plain": [
       "<Figure size 640x480 with 1 Axes>"
      ]
     },
     "metadata": {},
     "output_type": "display_data"
    }
   ],
   "source": [
    "a = np.random.randn(10000)\n",
    "plt.hist(a, bins=100)"
   ]
  },
  {
   "cell_type": "code",
   "execution_count": 28,
   "id": "75c766ca-4480-46c7-bcb9-aa20e6827169",
   "metadata": {},
   "outputs": [
    {
     "data": {
      "text/plain": [
       "array([[0.05352917, 0.94990596, 0.27566954],\n",
       "       [0.06730701, 0.73724916, 0.32481139]])"
      ]
     },
     "execution_count": 28,
     "metadata": {},
     "output_type": "execute_result"
    }
   ],
   "source": [
    "c = np.random.rand(2,3)\n",
    "c"
   ]
  },
  {
   "cell_type": "code",
   "execution_count": 32,
   "id": "fad82e4b-87ab-448c-8191-402156f25a8d",
   "metadata": {},
   "outputs": [
    {
     "data": {
      "text/plain": [
       "array([0., 0., 0., 0., 0.])"
      ]
     },
     "execution_count": 32,
     "metadata": {},
     "output_type": "execute_result"
    }
   ],
   "source": [
    "np.zeros(5)"
   ]
  },
  {
   "cell_type": "code",
   "execution_count": 33,
   "id": "85950d21-a3d3-4508-bb33-ba41f64d2438",
   "metadata": {},
   "outputs": [
    {
     "name": "stdout",
     "output_type": "stream",
     "text": [
      "Variable   Type       Data/Info\n",
      "-------------------------------\n",
      "a          ndarray    10000: 10000 elems, type `float64`, 80000 bytes\n",
      "b          ndarray    4: 4 elems, type `int32`, 16 bytes\n",
      "c          ndarray    2x3: 6 elems, type `float64`, 48 bytes\n",
      "np         module     <module 'numpy' from 'C:\\<...>ges\\\\numpy\\\\__init__.py'>\n",
      "plt        module     <module 'matplotlib.pyplo<...>\\\\matplotlib\\\\pyplot.py'>\n"
     ]
    }
   ],
   "source": [
    "%whos"
   ]
  },
  {
   "cell_type": "code",
   "execution_count": 67,
   "id": "de83708e-5aba-49ee-b950-08091a41bc0d",
   "metadata": {},
   "outputs": [
    {
     "name": "stdout",
     "output_type": "stream",
     "text": [
      "[3 4 5 6 7 8 9]\n",
      "0x2f9b894c270\n",
      "0x2f9b8902b90\n",
      "0x2f9b88d98d0\n"
     ]
    }
   ],
   "source": [
    "a = np.arange(100)\n",
    "b = a[3:10] # in numpy, slicing is done on the same memory and not on the copy of the object.\n",
    "print(b)\n",
    "# inorder to make a copy .copy() function is used\n",
    "c = b.copy()\n",
    "print(hex(id(c)))\n",
    "print(hex(id(c[0])))\n",
    "print(hex(id(c[1])))"
   ]
  },
  {
   "cell_type": "code",
   "execution_count": 92,
   "id": "f3046490-9565-4550-b77d-3a74bf3f1cc2",
   "metadata": {},
   "outputs": [
    {
     "name": "stdout",
     "output_type": "stream",
     "text": [
      "140722633040680\n",
      "140722633040712\n",
      "140722633040744\n",
      "140722633040776\n"
     ]
    }
   ],
   "source": [
    "a = [1,2,3,4]\n",
    "print(id(a[0]))\n",
    "print(id(a[1]))\n",
    "print(id(a[2]))\n",
    "print(id(a[3]))"
   ]
  },
  {
   "cell_type": "code",
   "execution_count": 93,
   "id": "b53d8b1c-eb3b-4574-b566-3fd3abfcc03d",
   "metadata": {},
   "outputs": [],
   "source": [
    "import numpy.linalg as lg"
   ]
  },
  {
   "cell_type": "code",
   "execution_count": 112,
   "id": "de92b817-b8b6-4188-891e-e2834893945a",
   "metadata": {},
   "outputs": [
    {
     "data": {
      "text/plain": [
       "array([[1.68369099]])"
      ]
     },
     "execution_count": 112,
     "metadata": {},
     "output_type": "execute_result"
    }
   ],
   "source": [
    "lg.inv(np.random.rand(1,1))"
   ]
  },
  {
   "cell_type": "markdown",
   "id": "29df7f4f-913b-42c7-b88b-5a8284d9be03",
   "metadata": {},
   "source": [
    "# Indexing in numpy"
   ]
  },
  {
   "cell_type": "code",
   "execution_count": 122,
   "id": "19c9ae4e-c712-48fe-bdb8-40054f4d6a22",
   "metadata": {},
   "outputs": [
    {
     "data": {
      "text/plain": [
       "array([3, 5, 6])"
      ]
     },
     "execution_count": 122,
     "metadata": {},
     "output_type": "execute_result"
    }
   ],
   "source": [
    "a = np.arange(100)\n",
    "b = a[[3,5,6]]\n",
    "b"
   ]
  },
  {
   "cell_type": "code",
   "execution_count": 123,
   "id": "31d8c7ec-6bbf-4f37-8d99-d3616d5bda92",
   "metadata": {},
   "outputs": [
    {
     "data": {
      "text/plain": [
       "array([ 0,  1,  2,  3,  4,  5,  6,  7,  8,  9, 10, 11, 12, 13, 14, 15, 16,\n",
       "       17, 18, 19, 20, 21, 22, 23, 24, 25, 26, 27, 28, 29, 30, 31, 32, 33,\n",
       "       34, 35, 36, 37, 38, 39, 40, 41, 42, 43, 44, 45, 46, 47, 48, 49, 50,\n",
       "       51, 52, 53, 54, 55, 56, 57, 58, 59, 60, 61, 62, 63, 64, 65, 66, 67,\n",
       "       68, 69, 70, 71, 72, 73, 74, 75, 76, 77, 78, 79, 80, 81, 82, 83, 84,\n",
       "       85, 86, 87, 88, 89, 90, 91, 92, 93, 94, 95, 96, 97, 98, 99])"
      ]
     },
     "execution_count": 123,
     "metadata": {},
     "output_type": "execute_result"
    }
   ],
   "source": [
    "a"
   ]
  },
  {
   "cell_type": "code",
   "execution_count": 130,
   "id": "118c2246-f638-48c7-b10a-8292ec52394a",
   "metadata": {},
   "outputs": [
    {
     "data": {
      "text/plain": [
       "array([31, 32, 33, 34, 35, 36, 37, 38, 39])"
      ]
     },
     "execution_count": 130,
     "metadata": {},
     "output_type": "execute_result"
    }
   ],
   "source": [
    "b = a[(a<40) & (a>30)] # '&' this is used for arrays: 'and' is used for same objects\n",
    "b"
   ]
  },
  {
   "cell_type": "markdown",
   "id": "966cdaf0-7c64-4e45-8b05-fcfe51325529",
   "metadata": {},
   "source": [
    "# Numpy(Broadcasting)"
   ]
  },
  {
   "cell_type": "code",
   "execution_count": 136,
   "id": "3fd0ed96-0751-406e-9694-000e3aeaf086",
   "metadata": {},
   "outputs": [
    {
     "data": {
      "text/plain": [
       "array([[ 7,  8],\n",
       "       [10, 14]])"
      ]
     },
     "execution_count": 136,
     "metadata": {},
     "output_type": "execute_result"
    }
   ],
   "source": [
    "a = np.array([[2, 3], [5, 9]])\n",
    "a+5"
   ]
  },
  {
   "cell_type": "code",
   "execution_count": 140,
   "id": "fa86a02a-bb18-4058-a832-11bed072f8dd",
   "metadata": {},
   "outputs": [],
   "source": [
    "b = a+np.arange(2).reshape(2,1)"
   ]
  },
  {
   "cell_type": "code",
   "execution_count": 144,
   "id": "3e2d326a-e86b-428f-b5ec-517395207216",
   "metadata": {},
   "outputs": [
    {
     "data": {
      "text/plain": [
       "array([[ 2,  3],\n",
       "       [ 5,  9],\n",
       "       [ 2,  3],\n",
       "       [ 6, 10]])"
      ]
     },
     "execution_count": 144,
     "metadata": {},
     "output_type": "execute_result"
    }
   ],
   "source": [
    "c = np.vstack((a,b))\n",
    "c"
   ]
  },
  {
   "cell_type": "code",
   "execution_count": 148,
   "id": "80cc2129-adbd-4516-9c5b-9e6bfc1382ce",
   "metadata": {},
   "outputs": [
    {
     "data": {
      "text/plain": [
       "array([[2, 3],\n",
       "       [5, 9]])"
      ]
     },
     "execution_count": 148,
     "metadata": {},
     "output_type": "execute_result"
    }
   ],
   "source": [
    "np.sort(a)"
   ]
  },
  {
   "cell_type": "code",
   "execution_count": 153,
   "id": "64fc9220-48a3-4a18-9fbf-e59379eae690",
   "metadata": {},
   "outputs": [
    {
     "data": {
      "text/plain": [
       "array(['abc', \"how're you?\", 'u765'], dtype='<U11')"
      ]
     },
     "execution_count": 153,
     "metadata": {},
     "output_type": "execute_result"
    }
   ],
   "source": [
    "a = np.array([\"abc\", \"how're you?\", 'u765'])\n",
    "a.sort()\n",
    "a"
   ]
  },
  {
   "cell_type": "markdown",
   "id": "35e0897e-1d35-4724-a66e-5e54711c7ac0",
   "metadata": {},
   "source": [
    "# Numpy (Seed: ufuncs) \n",
    "## Universal Functions in Numpy"
   ]
  },
  {
   "cell_type": "code",
   "execution_count": 162,
   "id": "5ad018fc-5663-4dc2-9797-bfb7513265e3",
   "metadata": {},
   "outputs": [
    {
     "name": "stdout",
     "output_type": "stream",
     "text": [
      "62.4 ms ± 1.42 ms per loop (mean ± std. dev. of 7 runs, 10 loops each)\n",
      "435 µs ± 44.1 µs per loop (mean ± std. dev. of 7 runs, 1,000 loops each)\n"
     ]
    }
   ],
   "source": [
    "b = np.random.rand(1000000)\n",
    "import timeit # it is used to calculate the time of execution of the program\n",
    "%timeit sum(b)\n",
    "%timeit np.sum(b)"
   ]
  }
 ],
 "metadata": {
  "kernelspec": {
   "display_name": "Python 3 (ipykernel)",
   "language": "python",
   "name": "python3"
  },
  "language_info": {
   "codemirror_mode": {
    "name": "ipython",
    "version": 3
   },
   "file_extension": ".py",
   "mimetype": "text/x-python",
   "name": "python",
   "nbconvert_exporter": "python",
   "pygments_lexer": "ipython3",
   "version": "3.11.5"
  }
 },
 "nbformat": 4,
 "nbformat_minor": 5
}
