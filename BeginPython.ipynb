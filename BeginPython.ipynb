{
 "cells": [
  {
   "cell_type": "code",
   "execution_count": 1,
   "id": "5c87452e-bbd6-43d3-b95c-9621e3a08982",
   "metadata": {},
   "outputs": [
    {
     "name": "stdout",
     "output_type": "stream",
     "text": [
      "9.0\n"
     ]
    }
   ],
   "source": [
    "a, b = 4, 5.0\n",
    "print(a+b)"
   ]
  },
  {
   "cell_type": "code",
   "execution_count": 2,
   "id": "44c125fc-f43f-4038-95eb-4a3042295991",
   "metadata": {},
   "outputs": [
    {
     "name": "stdout",
     "output_type": "stream",
     "text": [
      "hello\n"
     ]
    }
   ],
   "source": [
    "s = \"hello\"\n",
    "print(s)"
   ]
  },
  {
   "cell_type": "code",
   "execution_count": 3,
   "id": "bb89ab6c-973d-430e-97bd-95803f5f95ae",
   "metadata": {},
   "outputs": [
    {
     "name": "stdout",
     "output_type": "stream",
     "text": [
      "Variable   Type     Data/Info\n",
      "-----------------------------\n",
      "a          int      4\n",
      "b          float    5.0\n",
      "s          str      hello\n"
     ]
    }
   ],
   "source": [
    "%whos"
   ]
  },
  {
   "cell_type": "code",
   "execution_count": 4,
   "id": "d66a0488-bfab-4ee0-847b-2b360ad981e8",
   "metadata": {},
   "outputs": [
    {
     "name": "stdout",
     "output_type": "stream",
     "text": [
      "<class 'str'>\n"
     ]
    }
   ],
   "source": [
    "print(type(s))"
   ]
  },
  {
   "cell_type": "code",
   "execution_count": 5,
   "id": "17fb4885-9187-47e7-ad36-e9154e8fc6c1",
   "metadata": {},
   "outputs": [],
   "source": [
    "s = 5.7"
   ]
  },
  {
   "cell_type": "code",
   "execution_count": 6,
   "id": "83629209-daf5-4502-83a5-e7cbd9535151",
   "metadata": {},
   "outputs": [
    {
     "name": "stdout",
     "output_type": "stream",
     "text": [
      "<class 'float'>\n"
     ]
    }
   ],
   "source": [
    "print(type(s))"
   ]
  },
  {
   "cell_type": "code",
   "execution_count": 7,
   "id": "358da42d-36de-46e1-bad3-d720daefe402",
   "metadata": {},
   "outputs": [
    {
     "name": "stdout",
     "output_type": "stream",
     "text": [
      "No variables match your requested type.\n"
     ]
    }
   ],
   "source": [
    "%whos # this is used to check the status of the memory"
   ]
  },
  {
   "cell_type": "code",
   "execution_count": 8,
   "id": "f46d7ee3-f61c-4955-9d84-4f1724dc1a50",
   "metadata": {},
   "outputs": [
    {
     "name": "stdout",
     "output_type": "stream",
     "text": [
      "Variable   Type     Data/Info\n",
      "-----------------------------\n",
      "a          int      4\n",
      "abcd       float    556.32\n",
      "b          float    5.0\n",
      "s          float    5.7\n"
     ]
    }
   ],
   "source": [
    "abcd = 556.32\n",
    "%whos"
   ]
  },
  {
   "cell_type": "code",
   "execution_count": 9,
   "id": "0ffbd722-e9b3-4569-8298-74519d15e42f",
   "metadata": {},
   "outputs": [],
   "source": [
    "del s"
   ]
  },
  {
   "cell_type": "code",
   "execution_count": 10,
   "id": "cb095571-0703-4589-9c1c-75202cb6deb5",
   "metadata": {},
   "outputs": [
    {
     "name": "stdout",
     "output_type": "stream",
     "text": [
      "Variable   Type     Data/Info\n",
      "-----------------------------\n",
      "a          int      4\n",
      "abcd       float    556.32\n",
      "b          float    5.0\n"
     ]
    }
   ],
   "source": [
    "%whos"
   ]
  },
  {
   "cell_type": "code",
   "execution_count": 11,
   "id": "f9a4bf96-d88b-446c-b789-04d48a630495",
   "metadata": {},
   "outputs": [],
   "source": [
    "c = 2+4j"
   ]
  },
  {
   "cell_type": "code",
   "execution_count": 12,
   "id": "7c363e5e-1d75-4f16-aad7-f3cfe9660faa",
   "metadata": {},
   "outputs": [
    {
     "name": "stdout",
     "output_type": "stream",
     "text": [
      "<class 'complex'>\n"
     ]
    }
   ],
   "source": [
    "print(type(c))"
   ]
  },
  {
   "cell_type": "code",
   "execution_count": 13,
   "id": "cbe46825-0a17-48c6-8cb2-860c1b4e217b",
   "metadata": {},
   "outputs": [
    {
     "name": "stdout",
     "output_type": "stream",
     "text": [
      "hello world\n"
     ]
    }
   ],
   "source": [
    "s1 = \"hello\"\n",
    "s2 = \" world\"\n",
    "print(s1+s2)"
   ]
  },
  {
   "cell_type": "code",
   "execution_count": 14,
   "id": "f92c7359-9814-492d-802e-bcbfbd224324",
   "metadata": {},
   "outputs": [
    {
     "data": {
      "text/plain": [
       "3"
      ]
     },
     "execution_count": 14,
     "metadata": {},
     "output_type": "execute_result"
    }
   ],
   "source": [
    "10//3"
   ]
  },
  {
   "cell_type": "code",
   "execution_count": 15,
   "id": "6e46edb0-03ac-432b-9ddd-81382f929d91",
   "metadata": {},
   "outputs": [
    {
     "data": {
      "text/plain": [
       "3.3333333333333335"
      ]
     },
     "execution_count": 15,
     "metadata": {},
     "output_type": "execute_result"
    }
   ],
   "source": [
    "10/3"
   ]
  },
  {
   "cell_type": "code",
   "execution_count": 16,
   "id": "a242c39d-bd61-44a2-94f0-75c496ea6fe2",
   "metadata": {},
   "outputs": [
    {
     "name": "stdout",
     "output_type": "stream",
     "text": [
      "Variable   Type       Data/Info\n",
      "-------------------------------\n",
      "a          int        4\n",
      "abcd       float      556.32\n",
      "b          float      5.0\n",
      "c          complex    (2+4j)\n",
      "s1         str        hello\n",
      "s2         str         world\n"
     ]
    }
   ],
   "source": [
    "%whos"
   ]
  },
  {
   "cell_type": "code",
   "execution_count": 17,
   "id": "63776aee-119d-47bd-826e-890930ff5cb2",
   "metadata": {},
   "outputs": [
    {
     "name": "stdout",
     "output_type": "stream",
     "text": [
      "3x\n"
     ]
    }
   ],
   "source": [
    "_x = \"3x\"\n",
    "print(_x)"
   ]
  },
  {
   "cell_type": "code",
   "execution_count": 18,
   "id": "f500a1d1-bbb4-4a39-9095-db9ebe3c2f28",
   "metadata": {},
   "outputs": [
    {
     "data": {
      "text/plain": [
       "True"
      ]
     },
     "execution_count": 18,
     "metadata": {},
     "output_type": "execute_result"
    }
   ],
   "source": [
    "True and False or True  # and is applied first than or"
   ]
  },
  {
   "cell_type": "code",
   "execution_count": 19,
   "id": "d3f4789a-71bf-4b31-8e70-c331a8e47d84",
   "metadata": {},
   "outputs": [
    {
     "name": "stdout",
     "output_type": "stream",
     "text": [
      "6\n",
      "4.558\n"
     ]
    }
   ],
   "source": [
    "print(round(5.6231)) # this is for nearest integer\n",
    "print(round(4.55842, 3)) # this is upto 3-decimal places "
   ]
  },
  {
   "cell_type": "code",
   "execution_count": 20,
   "id": "62bbd23d-fabe-44d8-89fb-e120472d5be3",
   "metadata": {},
   "outputs": [
    {
     "data": {
      "text/plain": [
       "(5, 2)"
      ]
     },
     "execution_count": 20,
     "metadata": {},
     "output_type": "execute_result"
    }
   ],
   "source": [
    "divmod(27, 5) # this returns the quotient and remainder in a tuple"
   ]
  },
  {
   "cell_type": "code",
   "execution_count": 21,
   "id": "f9fba3a1-1233-447b-9fcd-88f952aab1da",
   "metadata": {},
   "outputs": [
    {
     "name": "stdout",
     "output_type": "stream",
     "text": [
      "True\n",
      "True\n"
     ]
    }
   ],
   "source": [
    "print(isinstance(1, int)) # returns True, if the first argument is an instance of that class.\n",
    "print(isinstance(1.0, (int, float)))"
   ]
  },
  {
   "cell_type": "code",
   "execution_count": 22,
   "id": "3ae73b6e-ac6a-4938-a840-38884cc810c6",
   "metadata": {},
   "outputs": [
    {
     "name": "stdin",
     "output_type": "stream",
     "text": [
      "Enter a number :  1\n"
     ]
    },
    {
     "name": "stdout",
     "output_type": "stream",
     "text": [
      "1\n"
     ]
    }
   ],
   "source": [
    "x = input(\"Enter a number : \")\n",
    "print(x)"
   ]
  },
  {
   "cell_type": "code",
   "execution_count": 23,
   "id": "3bbbce57-3549-4a4e-9a2d-f9cf2c345d61",
   "metadata": {},
   "outputs": [
    {
     "name": "stdin",
     "output_type": "stream",
     "text": [
      "Enter the numbers :  1,2\n"
     ]
    },
    {
     "name": "stdout",
     "output_type": "stream",
     "text": [
      "2\n"
     ]
    }
   ],
   "source": [
    "a, b = eval(input(\"Enter the numbers : \"))\n",
    "if a>b:\n",
    "    print(a)\n",
    "else:\n",
    "    print(b)"
   ]
  },
  {
   "cell_type": "code",
   "execution_count": 24,
   "id": "7813bed8-1eeb-42ad-9554-b77449009420",
   "metadata": {},
   "outputs": [
    {
     "name": "stdout",
     "output_type": "stream",
     "text": [
      "0\n",
      "2\n",
      "4\n",
      "6\n",
      "8\n",
      "[0, 4, 16, 36, 64]\n"
     ]
    }
   ],
   "source": [
    "L = []\n",
    "for i in range(0,10,2):\n",
    "    print(i)\n",
    "    L.append(i**2)\n",
    "print(L)"
   ]
  },
  {
   "cell_type": "code",
   "execution_count": 25,
   "id": "f0ebab29-f513-4c32-bf7b-20188fdf0d57",
   "metadata": {},
   "outputs": [
    {
     "name": "stdout",
     "output_type": "stream",
     "text": [
      "apple\n",
      "cherry\n",
      "Outside the loop\n"
     ]
    }
   ],
   "source": [
    "S = {\"apple\", 4.9, \"cherry\"}\n",
    "i = 1\n",
    "for x in S:\n",
    "    print(x)\n",
    "    i+=1\n",
    "    if i == 3:\n",
    "        break\n",
    "    else:\n",
    "        pass\n",
    "else:\n",
    "    print('Loop completes its iterations')\n",
    "print(\"Outside the loop\")"
   ]
  },
  {
   "cell_type": "code",
   "execution_count": 26,
   "id": "e5809c4c-a8d7-4973-a41f-8d2e775a9b92",
   "metadata": {},
   "outputs": [
    {
     "name": "stdout",
     "output_type": "stream",
     "text": [
      "apple 44\n",
      "cherry game\n"
     ]
    }
   ],
   "source": [
    "D = {\"apple\":44, \"cherry\":\"game\"}\n",
    "for x in D:\n",
    "    print(x, D[x])"
   ]
  },
  {
   "cell_type": "code",
   "execution_count": 27,
   "id": "15aeeb19-7d13-4c8e-ba5e-f40765453d1d",
   "metadata": {},
   "outputs": [],
   "source": [
    "'''\n",
    "    [1,2,4,-5,7,9,3,2]\n",
    "'''\n",
    "L = [1,2,4,-5,7,9,3,2]\n",
    "for j in range(len(L)):\n",
    "    m = L[j]\n",
    "    idx = j\n",
    "    c = j\n",
    "    for i in range(j, len(L)):\n",
    "        if L[i]<m:\n",
    "            m = L[i]\n",
    "            idx = c\n",
    "        c+=1\n",
    "    tmp = L[j]\n",
    "    L[j] = m\n",
    "    L[idx] = tmp"
   ]
  },
  {
   "cell_type": "code",
   "execution_count": 28,
   "id": "427f2d0f-81f8-4475-8287-ab4f09f35984",
   "metadata": {},
   "outputs": [
    {
     "data": {
      "text/plain": [
       "[-5, 1, 2, 2, 3, 4, 7, 9]"
      ]
     },
     "execution_count": 28,
     "metadata": {},
     "output_type": "execute_result"
    }
   ],
   "source": [
    "L"
   ]
  },
  {
   "cell_type": "markdown",
   "id": "bf5239be-b76c-419f-a862-3a011c0cc532",
   "metadata": {
    "editable": true,
    "slideshow": {
     "slide_type": ""
    },
    "tags": []
   },
   "source": [
    "# Functions"
   ]
  },
  {
   "cell_type": "code",
   "execution_count": 29,
   "id": "0db0297d-252e-4461-a50c-079531f35510",
   "metadata": {},
   "outputs": [],
   "source": [
    "def printSuccess():\n",
    "    print(\"The task ws successful\")\n",
    "    print(\"Moving to the next task\")\n",
    "    print(\"Send me the next task\")"
   ]
  },
  {
   "cell_type": "code",
   "execution_count": 30,
   "id": "12edac87-504f-42f8-a59b-c846b083090d",
   "metadata": {},
   "outputs": [
    {
     "name": "stdout",
     "output_type": "stream",
     "text": [
      "The task ws successful\n",
      "Moving to the next task\n",
      "Send me the next task\n"
     ]
    }
   ],
   "source": [
    "printSuccess()"
   ]
  },
  {
   "cell_type": "code",
   "execution_count": 31,
   "id": "421c5460-3f72-465d-be25-0a33ce003c63",
   "metadata": {},
   "outputs": [
    {
     "name": "stdout",
     "output_type": "stream",
     "text": [
      "Succcess\n"
     ]
    }
   ],
   "source": [
    "def printMessage(msg):\n",
    "    print(msg)\n",
    "\n",
    "printMessage(\"Succcess\")"
   ]
  },
  {
   "cell_type": "code",
   "execution_count": 32,
   "id": "673d9feb-81af-483f-bab2-548994dbc6bd",
   "metadata": {},
   "outputs": [],
   "source": [
    "def add(*args):\n",
    "    sum = 0\n",
    "    for i in range(len(args)):\n",
    "        sum += args[i]\n",
    "    return sum"
   ]
  },
  {
   "cell_type": "code",
   "execution_count": 33,
   "id": "72e5fcb0-34cf-4f1e-a033-c03bf6516862",
   "metadata": {},
   "outputs": [
    {
     "data": {
      "text/plain": [
       "33"
      ]
     },
     "execution_count": 33,
     "metadata": {},
     "output_type": "execute_result"
    }
   ],
   "source": [
    "sum((3,4,5,6,7,8)) # args takes in the form of a list, tuples, etc."
   ]
  },
  {
   "cell_type": "code",
   "execution_count": 34,
   "id": "07e2a8a5-2ae5-46e6-9b70-da346e46a518",
   "metadata": {},
   "outputs": [],
   "source": [
    "def f(**c):\n",
    "    for x in c:\n",
    "        print(x, c[x])"
   ]
  },
  {
   "cell_type": "code",
   "execution_count": 35,
   "id": "c9b00f7d-08b9-4e78-ac5c-10a59602ac43",
   "metadata": {},
   "outputs": [
    {
     "name": "stdout",
     "output_type": "stream",
     "text": [
      "a 12\n",
      "b abc\n",
      "c 12.455\n",
      "d True\n"
     ]
    }
   ],
   "source": [
    "f(a=12, b=\"abc\", c=12.455, d=True)"
   ]
  },
  {
   "cell_type": "code",
   "execution_count": 36,
   "id": "4fd36376-1e21-4d1a-8f8c-3c884b3121a7",
   "metadata": {},
   "outputs": [
    {
     "name": "stdout",
     "output_type": "stream",
     "text": [
      "Variable       Type        Data/Info\n",
      "------------------------------------\n",
      "D              dict        n=2\n",
      "L              list        n=8\n",
      "S              set         {'apple', 'cherry', 4.9}\n",
      "a              int         1\n",
      "abcd           float       556.32\n",
      "add            function    <function add at 0x0000027C6D206DE0>\n",
      "b              int         2\n",
      "c              int         8\n",
      "f              function    <function f at 0x0000027C6D207380>\n",
      "i              int         7\n",
      "idx            int         7\n",
      "j              int         7\n",
      "m              int         9\n",
      "printMessage   function    <function printMessage at 0x0000027C6D206A20>\n",
      "printSuccess   function    <function printSuccess at 0x0000027C6D206340>\n",
      "s1             str         hello\n",
      "s2             str          world\n",
      "tmp            int         9\n",
      "x              str         cherry\n"
     ]
    }
   ],
   "source": [
    "%whos"
   ]
  },
  {
   "cell_type": "code",
   "execution_count": 37,
   "id": "648c90e9-7b42-4ac3-ad5c-121107f5034b",
   "metadata": {},
   "outputs": [],
   "source": [
    "def add(sum = [0]):\n",
    "    s = 0\n",
    "    for i in sum:\n",
    "        s+=i\n",
    "    print(s)"
   ]
  },
  {
   "cell_type": "code",
   "execution_count": 38,
   "id": "26fd6f94-ae85-435e-9e33-eb23bbf8a2a1",
   "metadata": {},
   "outputs": [
    {
     "name": "stdout",
     "output_type": "stream",
     "text": [
      "10\n"
     ]
    }
   ],
   "source": [
    "add([1,2,4,3])"
   ]
  },
  {
   "cell_type": "code",
   "execution_count": 39,
   "id": "dd393e16-a9eb-46bd-af33-5ce5bb792a87",
   "metadata": {},
   "outputs": [
    {
     "name": "stdout",
     "output_type": "stream",
     "text": [
      "Variable       Type        Data/Info\n",
      "------------------------------------\n",
      "D              dict        n=2\n",
      "L              list        n=8\n",
      "S              set         {'apple', 'cherry', 4.9}\n",
      "a              int         1\n",
      "abcd           float       556.32\n",
      "add            function    <function add at 0x0000027C6D2200E0>\n",
      "b              int         2\n",
      "c              int         8\n",
      "f              function    <function f at 0x0000027C6D207380>\n",
      "i              int         7\n",
      "idx            int         7\n",
      "j              int         7\n",
      "m              int         9\n",
      "printMessage   function    <function printMessage at 0x0000027C6D206A20>\n",
      "printSuccess   function    <function printSuccess at 0x0000027C6D206340>\n",
      "s1             str         hello\n",
      "s2             str          world\n",
      "tmp            int         9\n",
      "x              str         cherry\n"
     ]
    }
   ],
   "source": [
    "%whos"
   ]
  },
  {
   "cell_type": "markdown",
   "id": "b1c5a1db-b409-442e-93a8-fc99286b7334",
   "metadata": {},
   "source": [
    "## Last topics of functions\n",
    "### How to make modules, in python?\n",
    "\n",
    "```python\n",
    "def printMe(msg=\"No message was supplied\"):\n",
    "    print(msg)\n",
    "```"
   ]
  },
  {
   "cell_type": "code",
   "execution_count": 40,
   "id": "4f64ae09-dc5c-41cf-ac9b-6fb042c6aeab",
   "metadata": {
    "editable": true,
    "slideshow": {
     "slide_type": ""
    },
    "tags": []
   },
   "outputs": [
    {
     "name": "stdout",
     "output_type": "stream",
     "text": [
      "None\n"
     ]
    }
   ],
   "source": [
    "import sys\n",
    "loc = sys.path.append('D:/Hllo')\n",
    "print(loc)"
   ]
  },
  {
   "cell_type": "code",
   "execution_count": 44,
   "id": "fa50314f-8288-4710-82b5-aa554def9c70",
   "metadata": {},
   "outputs": [
    {
     "name": "stdin",
     "output_type": "stream",
     "text": [
      "Enter a number and a string:  130981293, 'Raj'\n"
     ]
    },
    {
     "name": "stdout",
     "output_type": "stream",
     "text": [
      "Raj you're one of the best among 130981293\n"
     ]
    }
   ],
   "source": [
    "a, b = eval(input(\"Enter a number and a string: \"))\n",
    "print(b, \"you're one of the best among\", a)"
   ]
  },
  {
   "cell_type": "markdown",
   "id": "cd4d3b6f-69eb-4365-98b3-6434931707a7",
   "metadata": {},
   "source": [
    "# String \n",
    "### Indexing and Slicing\n",
    "\n",
    "#### Negative index\n",
    "\n",
    "```python\n",
    "    a = \"Game of programming\"\n",
    "    print(a[3:8])\n",
    "```"
   ]
  },
  {
   "cell_type": "code",
   "execution_count": 48,
   "id": "50945a55-eb03-46f3-885a-2f85a19232fc",
   "metadata": {},
   "outputs": [
    {
     "data": {
      "text/plain": [
       "'Anubhav'"
      ]
     },
     "execution_count": 48,
     "metadata": {},
     "output_type": "execute_result"
    }
   ],
   "source": [
    "a = 'anubhav'\n",
    "a.capitalize()"
   ]
  },
  {
   "cell_type": "code",
   "execution_count": 50,
   "id": "97c2f87b-f1ca-4a89-bc02-0aa1093cb620",
   "metadata": {},
   "outputs": [
    {
     "name": "stdout",
     "output_type": "stream",
     "text": [
      "c:\\name\\drive\n"
     ]
    }
   ],
   "source": [
    "print(r\"c:\\name\\drive\")"
   ]
  },
  {
   "cell_type": "markdown",
   "id": "618d6b32-0c8f-4af9-a027-2838f82914a7",
   "metadata": {},
   "source": [
    "# Data Structures in Python"
   ]
  },
  {
   "cell_type": "markdown",
   "id": "1f85c8b3-cde3-4f5d-9370-7ff899984b3d",
   "metadata": {},
   "source": [
    "* List\n",
    "* Tuple\n",
    "* Set\n",
    "* Dictionary"
   ]
  },
  {
   "cell_type": "code",
   "execution_count": 51,
   "id": "f01d62ac-12a6-49d4-ad9a-b4aa44481f88",
   "metadata": {},
   "outputs": [
    {
     "name": "stdout",
     "output_type": "stream",
     "text": [
      "[1, 3, 4.9, 'name', 3] (1, 3, 4.9, 'name', 3) {1, 3, 4.9, 'name'}\n"
     ]
    }
   ],
   "source": [
    "l = [1,3,4.9,\"name\",3]\n",
    "t = (1,3,4.9,\"name\",3)\n",
    "s = {1,3,4.9,\"name\",3}\n",
    "print(l, t, s)"
   ]
  }
 ],
 "metadata": {
  "kernelspec": {
   "display_name": "Python 3 (ipykernel)",
   "language": "python",
   "name": "python3"
  },
  "language_info": {
   "codemirror_mode": {
    "name": "ipython",
    "version": 3
   },
   "file_extension": ".py",
   "mimetype": "text/x-python",
   "name": "python",
   "nbconvert_exporter": "python",
   "pygments_lexer": "ipython3",
   "version": "3.11.5"
  }
 },
 "nbformat": 4,
 "nbformat_minor": 5
}
