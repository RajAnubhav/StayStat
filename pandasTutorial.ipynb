{
 "cells": [
  {
   "cell_type": "code",
   "execution_count": null,
   "id": "5ed18819-2897-4a1d-9340-f4716a14370a",
   "metadata": {},
   "outputs": [],
   "source": [
    "import pandas as pd\n",
    "import numpy as np"
   ]
  },
  {
   "cell_type": "code",
   "execution_count": null,
   "id": "8c6c7dbc-388b-441b-b55e-77bd516a29e4",
   "metadata": {},
   "outputs": [],
   "source": [
    "data = pd.Series([0.25, 0.5, 0.75, 1.0], index=['a', 'b', 'c', 'd'])\n",
    "print(data.values)\n",
    "print(data.index)"
   ]
  },
  {
   "cell_type": "code",
   "execution_count": null,
   "id": "44b45046-577d-4e7f-b9f8-fac90a7a64f3",
   "metadata": {},
   "outputs": [],
   "source": [
    "type(data)"
   ]
  },
  {
   "cell_type": "code",
   "execution_count": null,
   "id": "0ee86b66-c1a7-475e-8da8-3cb5b40f5f76",
   "metadata": {},
   "outputs": [],
   "source": [
    "data['a':'c'] # we can also do slicing"
   ]
  },
  {
   "cell_type": "code",
   "execution_count": null,
   "id": "65b9284d-6c69-443d-bb66-5c6d02bef7ba",
   "metadata": {},
   "outputs": [],
   "source": [
    "marks_dict = {'a':10, 'b':15, 'c':20, 'd':25}\n",
    "marks = pd.Series(marks_dict)"
   ]
  },
  {
   "cell_type": "code",
   "execution_count": null,
   "id": "2b2f0f1f-651a-4955-a6a0-c075f52e3612",
   "metadata": {},
   "outputs": [],
   "source": [
    "marks"
   ]
  },
  {
   "cell_type": "code",
   "execution_count": null,
   "id": "f174febb-8ad7-48a2-a898-06c71a38a501",
   "metadata": {},
   "outputs": [],
   "source": [
    "marks[0:2]"
   ]
  },
  {
   "cell_type": "markdown",
   "id": "c895bd01-f694-4502-99ce-80025e301abd",
   "metadata": {},
   "source": [
    "# Pandas (Data Frames)"
   ]
  },
  {
   "cell_type": "code",
   "execution_count": null,
   "id": "b2b8b0bd-7afb-41c5-aa82-42ae40a7fe88",
   "metadata": {},
   "outputs": [],
   "source": [
    "grades_dict = {'a':1, 'b':2, 'c':3}\n",
    "grades = pd.Series(grades_dict)"
   ]
  },
  {
   "cell_type": "code",
   "execution_count": null,
   "id": "5bedbcb2-cba0-49c2-bfef-5107d1dea818",
   "metadata": {},
   "outputs": [],
   "source": [
    "d = pd.DataFrame({'Marks':marks, 'Grades':grades})\n",
    "d"
   ]
  },
  {
   "cell_type": "code",
   "execution_count": null,
   "id": "a88bb14d-b2ad-43ac-8334-dea15e2ae975",
   "metadata": {},
   "outputs": [],
   "source": [
    "d.T"
   ]
  },
  {
   "cell_type": "code",
   "execution_count": null,
   "id": "09fb1288-ae6e-48b7-89ae-8ca2617f8898",
   "metadata": {},
   "outputs": [],
   "source": [
    "d.values"
   ]
  },
  {
   "cell_type": "code",
   "execution_count": null,
   "id": "fb127746-064e-4935-b43a-89fa0594d257",
   "metadata": {},
   "outputs": [],
   "source": [
    "d.values[2, 1]"
   ]
  },
  {
   "cell_type": "code",
   "execution_count": null,
   "id": "276c9c3b-64dd-45a5-b92d-5551c0523d0f",
   "metadata": {},
   "outputs": [],
   "source": [
    "d.columns"
   ]
  },
  {
   "cell_type": "code",
   "execution_count": null,
   "id": "41377a2c-69dd-48ee-8fef-eb962400e597",
   "metadata": {},
   "outputs": [],
   "source": [
    "a = pd.Series(['a', 'b', 'c'], index=[1,3,5])\n",
    "a[1:3]"
   ]
  },
  {
   "cell_type": "code",
   "execution_count": null,
   "id": "fa4c67b7-34aa-4a2e-a4be-3e68929f028e",
   "metadata": {},
   "outputs": [],
   "source": [
    "a.loc[1:3]"
   ]
  },
  {
   "cell_type": "code",
   "execution_count": null,
   "id": "7d2a2313-7b29-4dc9-9479-53f523aa25f2",
   "metadata": {},
   "outputs": [],
   "source": [
    "a.iloc[1:3]"
   ]
  },
  {
   "cell_type": "markdown",
   "id": "ede50447-facf-4620-82fe-a1e52d3b6f89",
   "metadata": {},
   "source": [
    "# How to manipulate the .csv files using pandas?"
   ]
  },
  {
   "cell_type": "code",
   "execution_count": null,
   "id": "42cf253c-3ee1-4318-9d15-f7b645b18d8b",
   "metadata": {},
   "outputs": [],
   "source": []
  }
 ],
 "metadata": {
  "kernelspec": {
   "display_name": "Python 3 (ipykernel)",
   "language": "python",
   "name": "python3"
  },
  "language_info": {
   "codemirror_mode": {
    "name": "ipython",
    "version": 3
   },
   "file_extension": ".py",
   "mimetype": "text/x-python",
   "name": "python",
   "nbconvert_exporter": "python",
   "pygments_lexer": "ipython3",
   "version": "3.11.5"
  }
 },
 "nbformat": 4,
 "nbformat_minor": 5
}
